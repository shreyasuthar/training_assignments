{
 "cells": [
  {
   "cell_type": "markdown",
   "metadata": {},
   "source": [
    "# 1. Write a program in Python to perform the following operation:\n",
    "# * If a number is divisible by 3 it should print “Consultadd” as a string\n",
    "# * If a number is divisible by 5 it should print “Python Training” as a string\n",
    "# * If a number is divisible by both 3 and 5 it should print “Consultadd - Python Training” as a string."
   ]
  },
  {
   "cell_type": "code",
   "execution_count": 63,
   "metadata": {},
   "outputs": [
    {
     "name": "stdout",
     "output_type": "stream",
     "text": [
      "Enter a number: 3\n",
      "Consultadd\n"
     ]
    }
   ],
   "source": [
    "a = int(input(\"Enter a number: \"))\n",
    "if (a%3==0 and a%5==0):\n",
    "    print(\"Consultadd - Python Training\")\n",
    "elif (a%5==0):\n",
    "    print(\"Python Training\")\n",
    "elif (a%3==0):\n",
    "    print(\"Consultadd\")\n",
    "    "
   ]
  },
  {
   "cell_type": "markdown",
   "metadata": {},
   "source": [
    "# 2. Write a program in Python to perform the following operator based task\n",
    "#    Ask user to choose the following option first:\n",
    "#   If User Enter 1 - Addition\n",
    "#   If User Enter 2 - Subtraction\n",
    "#   If User Enter 3 - Division\n",
    "#   If User Enter 4 - Multiplication\n",
    "#   If User Enter 5 - Average\n",
    "#   Ask user to enter two numbers and keep those numbers in variables num1 and num2 respectively for the first 4 options mentioned above.\n",
    "#   Ask the user to enter two more numbers as first and second for calculating the average as soon as the user chooses an option 5.\n",
    "#   At the end if the answer of any operation is Negative print a statement saying “NEGATIVE”\n",
    "#   NOTE: At a time a user can only perform one action."
   ]
  },
  {
   "cell_type": "code",
   "execution_count": 28,
   "metadata": {},
   "outputs": [
    {
     "name": "stdout",
     "output_type": "stream",
     "text": [
      "Enter First Number: 10\n",
      "Enter Second Number: 15\n",
      "Enter which operation would you like to do?\n",
      "Enter any of these operation 1,2,3,4,5:2\n",
      "NEGATIVE\n",
      "-5\n"
     ]
    }
   ],
   "source": [
    "num1 = int(input(\"Enter First Number: \"))\n",
    "num2 = int(input(\"Enter Second Number: \"))\n",
    "\n",
    "print(\"Enter which operation would you like to do?\")\n",
    "answer = input(\"Enter any of these operation 1,2,3,4,5:\")\n",
    "\n",
    "result = 0\n",
    "if answer == '1':\n",
    "    result = num1 + num2\n",
    "elif answer == '2':\n",
    "    result = num1 - num2\n",
    "elif answer == '3':\n",
    "    result = num1 / num2\n",
    "elif answer == '4':\n",
    "    result = num1 * num2\n",
    "elif answer == '5':\n",
    "    num3 = int(input(\"Enter first number for average: \"))\n",
    "    num4 = int(input(\"Enter second number for average: \"))\n",
    "    result = (num1 + num2 + num3 + num4) / 4\n",
    "else:\n",
    "    print(\"Input is not recognized\")\n",
    "if result < 0 :\n",
    "    print(\"NEGATIVE\")\n",
    "print(result)\n",
    "\n"
   ]
  },
  {
   "cell_type": "markdown",
   "metadata": {},
   "source": [
    "# 3. Write a program in Python to implement the given flowchart:"
   ]
  },
  {
   "cell_type": "code",
   "execution_count": 35,
   "metadata": {},
   "outputs": [
    {
     "name": "stdout",
     "output_type": "stream",
     "text": [
      "avg 20.0\n",
      "avg is higher than a\n"
     ]
    }
   ],
   "source": [
    "a = 10\n",
    "b = 20\n",
    "c = 30\n",
    "avg = (a+b+c)/3\n",
    "print(\"avg\", avg)\n",
    "if avg > a and avg > b and avg > c:\n",
    "    print(\"avg is higher than a,b,c\")\n",
    "elif avg > a and avg > b:\n",
    "    print(\"avg is higher than a,b\")\n",
    "elif avg > a and avg > c:\n",
    "    print(\"avg is higher than a,c\")\n",
    "elif avg > b and avg > c:\n",
    "    print(\"avg is hihger than b,c\")\n",
    "elif avg > a:\n",
    "    print(\"avg is higher than a\")\n",
    "elif avg > b:\n",
    "    print(\"avg is higher than b\")\n",
    "elif avg > c:\n",
    "    print(\"avg is higher than c\")\n",
    "else:\n",
    "    print(\"avg is less than a,b,c\")\n",
    "    "
   ]
  },
  {
   "cell_type": "markdown",
   "metadata": {},
   "source": [
    "# 4. Write a program in Python to break and continue if the following cases occurs:\n",
    "# If user enters a negative number just break the loop and print “It’s Over”\n",
    "# If user enters a positive number just continue in the loop and print “Good Going”"
   ]
  },
  {
   "cell_type": "code",
   "execution_count": 69,
   "metadata": {},
   "outputs": [
    {
     "name": "stdout",
     "output_type": "stream",
     "text": [
      "enter number-1\n",
      "it's over\n"
     ]
    }
   ],
   "source": [
    "while True:\n",
    "    number = int(input(\"enter number\"))\n",
    "    if number<0:\n",
    "        print(\"it's over\")\n",
    "        break\n",
    "    elif number>0:\n",
    "        print(\"good going\")\n",
    "        continue\n",
    "    print(\"number is zero\")"
   ]
  },
  {
   "cell_type": "markdown",
   "metadata": {},
   "source": [
    "# 5. Write a program in Python which will find all such numbers which are divisible by 7 but are not a multiple of 5, between 2000 and 3200."
   ]
  },
  {
   "cell_type": "code",
   "execution_count": 77,
   "metadata": {},
   "outputs": [
    {
     "name": "stdout",
     "output_type": "stream",
     "text": [
      "2002\n",
      "2009\n",
      "2016\n",
      "2023\n",
      "2037\n",
      "2044\n",
      "2051\n",
      "2058\n",
      "2072\n",
      "2079\n",
      "2086\n",
      "2093\n",
      "2107\n",
      "2114\n",
      "2121\n",
      "2128\n",
      "2142\n",
      "2149\n",
      "2156\n",
      "2163\n",
      "2177\n",
      "2184\n",
      "2191\n",
      "2198\n",
      "2212\n",
      "2219\n",
      "2226\n",
      "2233\n",
      "2247\n",
      "2254\n",
      "2261\n",
      "2268\n",
      "2282\n",
      "2289\n",
      "2296\n",
      "2303\n",
      "2317\n",
      "2324\n",
      "2331\n",
      "2338\n",
      "2352\n",
      "2359\n",
      "2366\n",
      "2373\n",
      "2387\n",
      "2394\n",
      "2401\n",
      "2408\n",
      "2422\n",
      "2429\n",
      "2436\n",
      "2443\n",
      "2457\n",
      "2464\n",
      "2471\n",
      "2478\n",
      "2492\n",
      "2499\n",
      "2506\n",
      "2513\n",
      "2527\n",
      "2534\n",
      "2541\n",
      "2548\n",
      "2562\n",
      "2569\n",
      "2576\n",
      "2583\n",
      "2597\n",
      "2604\n",
      "2611\n",
      "2618\n",
      "2632\n",
      "2639\n",
      "2646\n",
      "2653\n",
      "2667\n",
      "2674\n",
      "2681\n",
      "2688\n",
      "2702\n",
      "2709\n",
      "2716\n",
      "2723\n",
      "2737\n",
      "2744\n",
      "2751\n",
      "2758\n",
      "2772\n",
      "2779\n",
      "2786\n",
      "2793\n",
      "2807\n",
      "2814\n",
      "2821\n",
      "2828\n",
      "2842\n",
      "2849\n",
      "2856\n",
      "2863\n",
      "2877\n",
      "2884\n",
      "2891\n",
      "2898\n",
      "2912\n",
      "2919\n",
      "2926\n",
      "2933\n",
      "2947\n",
      "2954\n",
      "2961\n",
      "2968\n",
      "2982\n",
      "2989\n",
      "2996\n",
      "3003\n",
      "3017\n",
      "3024\n",
      "3031\n",
      "3038\n",
      "3052\n",
      "3059\n",
      "3066\n",
      "3073\n",
      "3087\n",
      "3094\n",
      "3101\n",
      "3108\n",
      "3122\n",
      "3129\n",
      "3136\n",
      "3143\n",
      "3157\n",
      "3164\n",
      "3171\n",
      "3178\n",
      "3192\n",
      "3199\n"
     ]
    }
   ],
   "source": [
    "for i in range (2000, 3201):\n",
    "    if (i%7==0) and (i%5!=0):\n",
    "        print(i)"
   ]
  },
  {
   "cell_type": "markdown",
   "metadata": {},
   "source": [
    "# 6. What is the output of the following code examples?"
   ]
  },
  {
   "cell_type": "code",
   "execution_count": 82,
   "metadata": {},
   "outputs": [
    {
     "ename": "TypeError",
     "evalue": "'int' object is not iterable",
     "output_type": "error",
     "traceback": [
      "\u001b[0;31m---------------------------------------------------------------------------\u001b[0m",
      "\u001b[0;31mTypeError\u001b[0m                                 Traceback (most recent call last)",
      "\u001b[0;32m<ipython-input-82-b49e92dbc2b4>\u001b[0m in \u001b[0;36m<module>\u001b[0;34m\u001b[0m\n\u001b[1;32m      1\u001b[0m \u001b[0mx\u001b[0m\u001b[0;34m=\u001b[0m\u001b[0;36m123\u001b[0m\u001b[0;34m\u001b[0m\u001b[0;34m\u001b[0m\u001b[0m\n\u001b[0;32m----> 2\u001b[0;31m \u001b[0;32mfor\u001b[0m \u001b[0mi\u001b[0m \u001b[0;32min\u001b[0m \u001b[0mx\u001b[0m\u001b[0;34m:\u001b[0m\u001b[0;34m\u001b[0m\u001b[0;34m\u001b[0m\u001b[0m\n\u001b[0m\u001b[1;32m      3\u001b[0m     \u001b[0mprint\u001b[0m\u001b[0;34m(\u001b[0m\u001b[0mi\u001b[0m\u001b[0;34m)\u001b[0m\u001b[0;34m\u001b[0m\u001b[0;34m\u001b[0m\u001b[0m\n",
      "\u001b[0;31mTypeError\u001b[0m: 'int' object is not iterable"
     ]
    }
   ],
   "source": [
    "x=123\n",
    "for i in x:\n",
    "    print(i)"
   ]
  },
  {
   "cell_type": "code",
   "execution_count": 88,
   "metadata": {},
   "outputs": [
    {
     "name": "stdout",
     "output_type": "stream",
     "text": [
      "0\n",
      "error\n",
      "1\n",
      "error\n",
      "2\n"
     ]
    }
   ],
   "source": [
    "i=0\n",
    "while i < 5:\n",
    "    print(i)\n",
    "    i += 1\n",
    "    if i == 3:\n",
    "        break\n",
    "    else:\n",
    "        print(\"error\")"
   ]
  },
  {
   "cell_type": "code",
   "execution_count": 89,
   "metadata": {},
   "outputs": [
    {
     "name": "stdout",
     "output_type": "stream",
     "text": [
      "0\n",
      "1\n",
      "2\n",
      "3\n",
      "4\n"
     ]
    }
   ],
   "source": [
    "count=0\n",
    "while True:\n",
    "    print(count)\n",
    "    count += 1\n",
    "    if count >= 5:\n",
    "        break"
   ]
  },
  {
   "cell_type": "markdown",
   "metadata": {},
   "source": [
    "# 7. Write a program that prints all the numbers from 0 to 6 except 3 and 6 . Expected output: 0 1 2 4 5\n",
    "# Note: Use ‘continue’ statement"
   ]
  },
  {
   "cell_type": "code",
   "execution_count": 138,
   "metadata": {},
   "outputs": [
    {
     "name": "stdout",
     "output_type": "stream",
     "text": [
      "0 1 2 4 5\n"
     ]
    }
   ],
   "source": [
    "my_output =\" \"\n",
    "for i in range(0,6):\n",
    "    if (i == 3 or i == 6):\n",
    "        continue\n",
    "    my_output += '{} '.format(i)\n",
    "\n",
    "print(my_output.strip())"
   ]
  },
  {
   "cell_type": "markdown",
   "metadata": {},
   "source": [
    "# 8. Write a program that accepts a string as an input from the user and calculate the number of digits and letters.\n",
    "# Sample input: consul72\n",
    "# Expected output: Letters 6 Digits 2"
   ]
  },
  {
   "cell_type": "code",
   "execution_count": null,
   "metadata": {
    "scrolled": true
   },
   "outputs": [],
   "source": [
    "my_string = str(input(\"Enter the string: \"))\n",
    "\n",
    "\n"
   ]
  },
  {
   "cell_type": "markdown",
   "metadata": {},
   "source": [
    "# 9. Read the two parts of the question below:\n",
    "# Write a program such that it asks users to “guess the lucky number”. If the correct number is guessed the program stops, otherwise it continues forever.\n",
    "# Modify the program so that it asks users whether they want to guess again each time. Use two variables, ‘number’ for the number and ‘answer’ for the answer to the question whether they want to continue guessing. The program stops if the user guesses the correct number or answers “no”. ( The program continues as long as a user has not answered “no” and has not guessed the correct number)"
   ]
  },
  {
   "cell_type": "code",
   "execution_count": 117,
   "metadata": {},
   "outputs": [
    {
     "name": "stdout",
     "output_type": "stream",
     "text": [
      "Guess the lucky number: 4\n",
      "Wrong guess\n",
      "Do you want to continue? Yes or No: Yes\n",
      "Guess the lucky number: 7\n",
      "You guessed the lucky number\n"
     ]
    }
   ],
   "source": [
    "my_lucky_number = 7\n",
    "while True:\n",
    "    number = int(input(\"Guess the lucky number: \"))\n",
    "    if number == my_lucky_number:\n",
    "        print(\"You guessed the lucky number\")\n",
    "        break\n",
    "    else:\n",
    "        print(\"Wrong guess\")\n",
    "        answer = input(\"Do you want to continue? Yes or No: \")\n",
    "        if answer.upper() == 'YES':\n",
    "            continue\n",
    "        else:\n",
    "            break"
   ]
  },
  {
   "cell_type": "markdown",
   "metadata": {},
   "source": [
    "# 10. Write a program that asks five times to guess the lucky number. Use a while loop and a counter, such as\n",
    "# While counter <= 5:\n",
    "# print(“Type in the”, counter, “number”)\n",
    "# counter=counter+1\n",
    "# The program asks for five guesses (no matter whether the correct number was guessed or not). If the correct number is guessed, the program outputs “Good guess!”, otherwise it outputs “Try again!”. After the fifth guess it stops and prints “Game over!”."
   ]
  },
  {
   "cell_type": "code",
   "execution_count": 160,
   "metadata": {},
   "outputs": [
    {
     "name": "stdout",
     "output_type": "stream",
     "text": [
      "Guess the lucky number: 1\n",
      "Try again!\n",
      "Guess the lucky number: 2\n",
      "Try again!\n",
      "Guess the lucky number: 3\n",
      "Try again!\n",
      "Guess the lucky number: 4\n",
      "Try again!\n",
      "Guess the lucky number: 5\n",
      "Try again!\n",
      "Game over!\n"
     ]
    }
   ],
   "source": [
    "my_lucky_number = 7\n",
    "counter = 1\n",
    "while counter <= 5:\n",
    "    number = int(input(\"Guess the lucky number: \"))\n",
    "    if number == my_lucky_number:\n",
    "        print(\"Good guess!\")\n",
    "    else:\n",
    "        print(\"Try again!\")\n",
    "    counter=counter+1\n",
    "print(\"Game over!\")"
   ]
  },
  {
   "cell_type": "markdown",
   "metadata": {},
   "source": [
    "# 11. In the previous question, insert break after the “Good guess!” print statement. break will terminate the while loop so that users do not have to continue guessing after they found the number. If the user does not guess the number at all, print “Sorry but that was not very successful”."
   ]
  },
  {
   "cell_type": "code",
   "execution_count": 155,
   "metadata": {
    "scrolled": true
   },
   "outputs": [
    {
     "name": "stdout",
     "output_type": "stream",
     "text": [
      "Guess the lucky number: 1\n",
      "Try again!\n",
      "Guess the lucky number: 2\n",
      "Try again!\n",
      "Guess the lucky number: 3\n",
      "Try again!\n",
      "Guess the lucky number: 4\n",
      "Try again!\n",
      "Guess the lucky number: 5\n",
      "Sorry but that was not very successful\n"
     ]
    }
   ],
   "source": [
    "my_lucky_number = 7\n",
    "counter = 1\n",
    "while counter <= 5:\n",
    "    number = int(input(\"Guess the lucky number: \"))\n",
    "    if number == my_lucky_number:\n",
    "        print(\"Good guess!\")\n",
    "        break\n",
    "    elif counter != 5:\n",
    "        print(\"Try again!\")\n",
    "    counter=counter+1\n",
    "else:\n",
    "    print(\"Sorry but that was not very successful\")\n",
    "    \n",
    "    "
   ]
  },
  {
   "cell_type": "markdown",
   "metadata": {},
   "source": []
  },
  {
   "cell_type": "code",
   "execution_count": null,
   "metadata": {},
   "outputs": [],
   "source": []
  }
 ],
 "metadata": {
  "kernelspec": {
   "display_name": "Python 3",
   "language": "python",
   "name": "python3"
  },
  "language_info": {
   "codemirror_mode": {
    "name": "ipython",
    "version": 3
   },
   "file_extension": ".py",
   "mimetype": "text/x-python",
   "name": "python",
   "nbconvert_exporter": "python",
   "pygments_lexer": "ipython3",
   "version": "3.7.7"
  }
 },
 "nbformat": 4,
 "nbformat_minor": 4
}
