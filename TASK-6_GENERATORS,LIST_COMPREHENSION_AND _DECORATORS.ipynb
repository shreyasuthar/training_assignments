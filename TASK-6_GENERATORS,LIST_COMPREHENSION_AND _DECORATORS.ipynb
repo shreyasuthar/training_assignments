{
 "cells": [
  {
   "cell_type": "markdown",
   "metadata": {},
   "source": [
    "# 1. Write a program in Python to find out the character in a string which is uppercase using list comprehension."
   ]
  },
  {
   "cell_type": "code",
   "execution_count": 40,
   "metadata": {},
   "outputs": [
    {
     "name": "stdout",
     "output_type": "stream",
     "text": [
      "['HELLO', 'NAME', 'CLASS', 'SCHOOL']\n"
     ]
    }
   ],
   "source": [
    "c = [\"hello\",\"name\",\"class\",\"school\"]\n",
    "\n",
    "com_c = [x.upper() for x in c]\n",
    "print(com_c)"
   ]
  },
  {
   "cell_type": "markdown",
   "metadata": {},
   "source": [
    "# 2. Write a program to construct a dictionary from the two lists containing the names of students and their corresponding subjects. The dictionary should map the students with their respective subjects.\n",
    "# Let’s see how to do this using for loops and dictionary comprehension.\n",
    "# HINT - Use Zip function also\n",
    "# Sample input: students = ['Smit', 'Jaya', 'Rayyan'] subjects = ['CSE', 'Networking', 'Operating System']\n",
    "# Expected output: {‘Smit’ : ’CSE’ , ’Jaya’ : ’Networking’ , ’Rayyan’ : ’Operating System’}"
   ]
  },
  {
   "cell_type": "code",
   "execution_count": 10,
   "metadata": {},
   "outputs": [
    {
     "name": "stdout",
     "output_type": "stream",
     "text": [
      "dict : {'Smit': 'CSC', 'Jaya': 'Networking', 'Rayyan': 'Operating System'}\n"
     ]
    }
   ],
   "source": [
    "students = [\"Smit\",\"Jaya\",\"Rayyan\"]\n",
    "subjects = [\"CSC\",\"Networking\",\"Operating System\"]\n",
    "output = dict(zip(students, subjects))\n",
    "print (\"dict : \" +  str(output)) \n"
   ]
  },
  {
   "cell_type": "markdown",
   "metadata": {},
   "source": [
    "# 3. Learn More about Yield, next and Generators"
   ]
  },
  {
   "cell_type": "code",
   "execution_count": null,
   "metadata": {},
   "outputs": [],
   "source": []
  },
  {
   "cell_type": "markdown",
   "metadata": {},
   "source": [
    "# 4. Write a program in Python using generators to reverse the string. \n",
    "# Input String = “Consultadd Training”"
   ]
  },
  {
   "cell_type": "code",
   "execution_count": 48,
   "metadata": {},
   "outputs": [
    {
     "name": "stdout",
     "output_type": "stream",
     "text": [
      "gniniarT ddatlusnoC\n"
     ]
    }
   ],
   "source": [
    "def rev_generator():\n",
    "    my_str = \"Consultadd Training\"\n",
    "    rev = my_str[::-1]\n",
    "    yield rev\n",
    "my_rev = rev_generator()\n",
    "print(next(my_rev))"
   ]
  },
  {
   "cell_type": "markdown",
   "metadata": {},
   "source": [
    "# 5. Write an example on decorators."
   ]
  },
  {
   "cell_type": "code",
   "execution_count": 49,
   "metadata": {},
   "outputs": [
    {
     "name": "stdout",
     "output_type": "stream",
     "text": [
      "[4, 20, 10, 13]\n"
     ]
    }
   ],
   "source": [
    "def decorator_list(fnc):\n",
    "    def inner(list_of_tuples):\n",
    "        return [fnc(val[0], val[1]) for val in list_of_tuples]\n",
    "    return inner\n",
    "\n",
    "\n",
    "@decorator_list\n",
    "def add_together(a, b):\n",
    "    return a + b\n",
    "\n",
    "\n",
    "print(add_together([(1, 3), (3, 17), (5, 5), (6, 7)]))"
   ]
  },
  {
   "cell_type": "code",
   "execution_count": null,
   "metadata": {},
   "outputs": [],
   "source": []
  }
 ],
 "metadata": {
  "kernelspec": {
   "display_name": "Python 3",
   "language": "python",
   "name": "python3"
  },
  "language_info": {
   "codemirror_mode": {
    "name": "ipython",
    "version": 3
   },
   "file_extension": ".py",
   "mimetype": "text/x-python",
   "name": "python",
   "nbconvert_exporter": "python",
   "pygments_lexer": "ipython3",
   "version": "3.7.7"
  }
 },
 "nbformat": 4,
 "nbformat_minor": 4
}
