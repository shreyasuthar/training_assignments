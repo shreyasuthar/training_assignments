{
 "cells": [
  {
   "cell_type": "markdown",
   "metadata": {},
   "source": [
    "# 1. Create a list of 10 elements of four different data types like int, string, complex and float."
   ]
  },
  {
   "cell_type": "code",
   "execution_count": 5,
   "metadata": {},
   "outputs": [
    {
     "name": "stdout",
     "output_type": "stream",
     "text": [
      "<class 'list'>\n"
     ]
    }
   ],
   "source": [
    "abc = [\"shreya\", 5, 5+2j, 30.27, \"hello\", 2, 9.2, True, \"python\", 3.11]\n",
    "print(type(abc))"
   ]
  },
  {
   "cell_type": "markdown",
   "metadata": {},
   "source": [
    "# 2. Create a list of size 5 and execute the slicing structure"
   ]
  },
  {
   "cell_type": "code",
   "execution_count": 18,
   "metadata": {},
   "outputs": [
    {
     "name": "stdout",
     "output_type": "stream",
     "text": [
      "Sum:  18\n",
      "Multiply:  360\n"
     ]
    }
   ],
   "source": [
    "number_list = [3,4,5,6]\n",
    "print(\"Sum: \", sum(number_list))\n",
    "\n",
    "num_product = 1\n",
    "for one_number in number_list:\n",
    "    num_product *= one_number\n",
    "\n",
    "print(\"Multiply: \", num_product)\n"
   ]
  },
  {
   "cell_type": "markdown",
   "metadata": {},
   "source": [
    "# 3. Write a program to get the sum and multiply of all the items in a given list."
   ]
  },
  {
   "cell_type": "code",
   "execution_count": 15,
   "metadata": {},
   "outputs": [
    {
     "name": "stdout",
     "output_type": "stream",
     "text": [
      "18\n"
     ]
    }
   ],
   "source": [
    "number_list = [3,4,5,6]\n",
    "print(sum(list1))\n",
    "for one_number in number_list:\n",
    "    num_product *= one_number\n",
    "print(num_product)"
   ]
  },
  {
   "cell_type": "markdown",
   "metadata": {},
   "source": [
    "# 4. Find the largest and smallest number from a given list."
   ]
  },
  {
   "cell_type": "code",
   "execution_count": 14,
   "metadata": {},
   "outputs": [
    {
     "name": "stdout",
     "output_type": "stream",
     "text": [
      "Maximum in the list is : 9 \n",
      "Minimum in the list is : 0\n"
     ]
    }
   ],
   "source": [
    "abc = [3,6,5,8,0,1,9,4,2]\n",
    "print(\"Maximum in the list is :\", max(abc), \"\\nMinimum in the list is :\", min(abc))"
   ]
  },
  {
   "cell_type": "markdown",
   "metadata": {},
   "source": [
    "# 5. Create a new list which contains the specified numbers after removing the even numbers from a predefined list."
   ]
  },
  {
   "cell_type": "code",
   "execution_count": 23,
   "metadata": {},
   "outputs": [
    {
     "name": "stdout",
     "output_type": "stream",
     "text": [
      "[1, 3, 5, 7, 9]\n"
     ]
    }
   ],
   "source": [
    "abc = [1,2,3,4,5,6,7,8,9,10]\n",
    "\n",
    "not_even_numbers = []\n",
    "for one_number in abc:\n",
    "    if one_number%2 != 0:\n",
    "        not_even_numbers.append(one_number)\n",
    "\n",
    "print(not_even_numbers)"
   ]
  },
  {
   "cell_type": "markdown",
   "metadata": {},
   "source": [
    "# 6. Create a list of elements such that it contains the squares of the first and last 5 elements between 1 and30 (both included)."
   ]
  },
  {
   "cell_type": "code",
   "execution_count": 29,
   "metadata": {},
   "outputs": [
    {
     "name": "stdout",
     "output_type": "stream",
     "text": [
      "[]\n"
     ]
    }
   ],
   "source": [
    "abc = []\n",
    "for i in range(1, 31):\n",
    "    if i*i != True:\n",
    "        abc.append(i)\n",
    "    else:\n",
    "        print(abc)"
   ]
  },
  {
   "cell_type": "markdown",
   "metadata": {},
   "source": [
    "# 7. Write a program to replace the last element in a list with another list.\n",
    "# Sample input: [1,3,5,7,9,10], [2,4,6,8]\n",
    "# Expected output: [1,3,5,7,9,2,4,6,8]"
   ]
  },
  {
   "cell_type": "code",
   "execution_count": 32,
   "metadata": {},
   "outputs": [
    {
     "name": "stdout",
     "output_type": "stream",
     "text": [
      "[1, 3, 5, 7, 9, [2, 4, 6, 8]]\n"
     ]
    }
   ],
   "source": [
    "num1 = [1,3,5,7,9,10]\n",
    "num2 = [2,4,6,8]\n",
    "num1[5] = num2\n",
    "print(num1)\n"
   ]
  },
  {
   "cell_type": "markdown",
   "metadata": {},
   "source": [
    "# 8. Create a new dictionary by concatenating the following two dictionaries:\n",
    "# Sample input: a={1:10,2:20} b={3:30,4:40}\n",
    "# Expected output: {1:10,2:20,3:30,4:40}"
   ]
  },
  {
   "cell_type": "code",
   "execution_count": 39,
   "metadata": {},
   "outputs": [
    {
     "name": "stdout",
     "output_type": "stream",
     "text": [
      "{1: 10, 2: 20, 3: 30, 4: 40}\n"
     ]
    }
   ],
   "source": [
    "a={1:10,2:20}\n",
    "b={3:30,4:40}\n",
    "c={}\n",
    "for d in(a, b): c.update(d)\n",
    "print(c)"
   ]
  },
  {
   "cell_type": "markdown",
   "metadata": {},
   "source": [
    "# 9. Create a dictionary that contain numbers in the form(x:x*x) where x takes all the values between 1 and n(both 1 and n included).\n",
    "# Sample input: n=5\n",
    "# Expected output: {1:1, 2:4, 3:9, 4:16, 5:25}"
   ]
  },
  {
   "cell_type": "code",
   "execution_count": 40,
   "metadata": {},
   "outputs": [
    {
     "name": "stdout",
     "output_type": "stream",
     "text": [
      "{1: 1, 2: 4, 3: 9, 4: 16, 5: 25, 6: 36, 7: 49, 8: 64, 9: 81, 10: 100}\n"
     ]
    }
   ],
   "source": [
    "d = dict()\n",
    "for i in range(1,11):\n",
    "    d[i]= i**2\n",
    "print(d)"
   ]
  },
  {
   "cell_type": "markdown",
   "metadata": {},
   "source": [
    "# 10. Write a program which accepts a sequence of comma-separated numbers from console and generates a list and a tuple which contains every number in the form of string.\n",
    "# Sample input: 34,67,55,33,12,98\n",
    "# Expected output: [‘34’,’67’,’55’,’33’,’12’,’98’] (‘34’,’67’,’55’,’33’,’12’,’98’)"
   ]
  },
  {
   "cell_type": "code",
   "execution_count": null,
   "metadata": {},
   "outputs": [],
   "source": []
  }
 ],
 "metadata": {
  "kernelspec": {
   "display_name": "Python 3",
   "language": "python",
   "name": "python3"
  },
  "language_info": {
   "codemirror_mode": {
    "name": "ipython",
    "version": 3
   },
   "file_extension": ".py",
   "mimetype": "text/x-python",
   "name": "python",
   "nbconvert_exporter": "python",
   "pygments_lexer": "ipython3",
   "version": "3.7.7"
  }
 },
 "nbformat": 4,
 "nbformat_minor": 4
}
