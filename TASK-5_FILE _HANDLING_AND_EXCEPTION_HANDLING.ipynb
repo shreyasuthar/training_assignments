{
 "cells": [
  {
   "cell_type": "markdown",
   "metadata": {},
   "source": [
    "# 1. Write a program in Python to allow the error of syntax to be handled using exception handling.\n",
    "# HINT: Use SyntaxError"
   ]
  },
  {
   "cell_type": "code",
   "execution_count": 1,
   "metadata": {},
   "outputs": [
    {
     "ename": "NameError",
     "evalue": "name 'y' is not defined",
     "output_type": "error",
     "traceback": [
      "\u001b[0;31m---------------------------------------------------------------------------\u001b[0m",
      "\u001b[0;31mNameError\u001b[0m                                 Traceback (most recent call last)",
      "\u001b[0;32m<ipython-input-1-6aa0d43a01c5>\u001b[0m in \u001b[0;36m<module>\u001b[0;34m\u001b[0m\n\u001b[1;32m      1\u001b[0m \u001b[0;32mtry\u001b[0m\u001b[0;34m:\u001b[0m\u001b[0;34m\u001b[0m\u001b[0;34m\u001b[0m\u001b[0m\n\u001b[1;32m      2\u001b[0m     \u001b[0mx\u001b[0m \u001b[0;34m=\u001b[0m \u001b[0;36m3\u001b[0m\u001b[0;34m\u001b[0m\u001b[0;34m\u001b[0m\u001b[0m\n\u001b[0;32m----> 3\u001b[0;31m     \u001b[0mx\u001b[0m \u001b[0;34m=\u001b[0m \u001b[0my\u001b[0m \u001b[0;34m+\u001b[0m \u001b[0mx\u001b[0m\u001b[0;34m\u001b[0m\u001b[0;34m\u001b[0m\u001b[0m\n\u001b[0m\u001b[1;32m      4\u001b[0m     \u001b[0mprint\u001b[0m\u001b[0;34m(\u001b[0m\u001b[0mx\u001b[0m\u001b[0;34m)\u001b[0m\u001b[0;34m\u001b[0m\u001b[0;34m\u001b[0m\u001b[0m\n\u001b[1;32m      5\u001b[0m \u001b[0;34m\u001b[0m\u001b[0m\n",
      "\u001b[0;31mNameError\u001b[0m: name 'y' is not defined"
     ]
    }
   ],
   "source": [
    "try:\n",
    "    x = 3\n",
    "    x = y + x\n",
    "    print(x)\n",
    "    \n",
    "except SyntaxError:\n",
    "    print(\"Syntax Error\")  "
   ]
  },
  {
   "cell_type": "markdown",
   "metadata": {},
   "source": [
    "# 2. Write a program in Python to allow the user to open a file by using the argv module. If the entered name is incorrect throw an exception and ask them to enter the name again. Make sure to use read only mode."
   ]
  },
  {
   "cell_type": "code",
   "execution_count": null,
   "metadata": {},
   "outputs": [],
   "source": [
    "import sys\n"
   ]
  },
  {
   "cell_type": "markdown",
   "metadata": {},
   "source": [
    "# 3. Write a program to handle an error if the user entered a number more than four digits it should return “The length is too short/long !!! Please provide only four digits”"
   ]
  },
  {
   "cell_type": "code",
   "execution_count": 34,
   "metadata": {},
   "outputs": [
    {
     "name": "stdout",
     "output_type": "stream",
     "text": [
      "Enter a 4 digit number: 2234\n"
     ]
    }
   ],
   "source": [
    "number = input(\"Enter a 4 digit number: \")\n",
    "if len(number) != 4:\n",
    "    print(\"The length is too short/long !!! Please provide only four digits\")\n"
   ]
  },
  {
   "cell_type": "code",
   "execution_count": 4,
   "metadata": {},
   "outputs": [
    {
     "name": "stdout",
     "output_type": "stream",
     "text": [
      "Enter a 4 digit number: 778999\n",
      "The length is too short/long !!! Please provide only four digits\n"
     ]
    }
   ],
   "source": [
    "try:\n",
    "    number = input(\"Enter a 4 digit number: \")\n",
    "    if len(number) != 4:\n",
    "        raise ValueError('Represents a hidden bug, do not catch this')\n",
    "except ValueError:\n",
    "        print(\"The length is too short/long !!! Please provide only four digits\")\n"
   ]
  },
  {
   "cell_type": "markdown",
   "metadata": {},
   "source": [
    "# 4. Create a login page backend to ask users to enter the username and password. Make sure to ask for a Re-Type Password and if the password is incorrect give chance to enter it again but it should not be more than 3 times."
   ]
  },
  {
   "cell_type": "code",
   "execution_count": null,
   "metadata": {},
   "outputs": [],
   "source": [
    "username = input(\"Enter the user name: \")\n",
    "password = input(\"Password: \")\n",
    "if password = \"Sh1234\":\n",
    "    "
   ]
  },
  {
   "cell_type": "markdown",
   "metadata": {},
   "source": [
    "# 5. Go through the link provided below to understand finally and raise concept:\n",
    "# https://www.programiz.com/python-programming/exception-handling"
   ]
  },
  {
   "cell_type": "markdown",
   "metadata": {},
   "source": [
    "# 6. Read doc.txt file using Python File handling concept and return only the even length string from the file. Consider the content of doc.txt as given below:\n",
    "# Hello I am a file\n",
    "# Where you need to return the data string\n",
    "# Which is of even length\n",
    "# Make sure you return the content in The same link as it is present."
   ]
  },
  {
   "cell_type": "code",
   "execution_count": 2,
   "metadata": {},
   "outputs": [],
   "source": [
    "with open(\"doc.txt\",'w') as f:\n",
    "    f.write(\"Hello I am a file\\n\")\n",
    "    f.write(\"Where you need to return the data string\\n\")\n",
    "    f.write(\"Which is of even length\\n\")\n",
    "    f.write(\"Make sure you return the content in The same link as it is present\\n\")"
   ]
  },
  {
   "cell_type": "code",
   "execution_count": 3,
   "metadata": {},
   "outputs": [
    {
     "name": "stdout",
     "output_type": "stream",
     "text": [
      "Where you need to return the data string\n",
      "Make sure you return the content in The same link as it is present\n"
     ]
    }
   ],
   "source": [
    "doc = open(\"doc.txt\",\"r\")\n",
    "try:\n",
    "    for line in doc.readlines():\n",
    "        lines = line.strip('\\n')\n",
    "        words = line.split(\" \")\n",
    "        \n",
    "        if len(words)%2 == 0:\n",
    "            print(lines)\n",
    "        \n",
    "except:\n",
    "    pass"
   ]
  },
  {
   "cell_type": "code",
   "execution_count": null,
   "metadata": {},
   "outputs": [],
   "source": []
  }
 ],
 "metadata": {
  "kernelspec": {
   "display_name": "Python 3",
   "language": "python",
   "name": "python3"
  },
  "language_info": {
   "codemirror_mode": {
    "name": "ipython",
    "version": 3
   },
   "file_extension": ".py",
   "mimetype": "text/x-python",
   "name": "python",
   "nbconvert_exporter": "python",
   "pygments_lexer": "ipython3",
   "version": "3.7.7"
  }
 },
 "nbformat": 4,
 "nbformat_minor": 4
}
